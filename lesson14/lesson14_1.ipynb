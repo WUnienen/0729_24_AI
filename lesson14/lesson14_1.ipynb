{
 "cells": [
  {
   "cell_type": "code",
   "execution_count": 1,
   "metadata": {},
   "outputs": [
    {
     "data": {
      "text/plain": [
       "(5, 7)"
      ]
     },
     "execution_count": 1,
     "metadata": {},
     "output_type": "execute_result"
    }
   ],
   "source": [
    "(5,7)"
   ]
  },
  {
   "cell_type": "code",
   "execution_count": 2,
   "metadata": {},
   "outputs": [
    {
     "data": {
      "text/plain": [
       "(5, 7)"
      ]
     },
     "execution_count": 2,
     "metadata": {},
     "output_type": "execute_result"
    }
   ],
   "source": [
    "5,7"
   ]
  },
  {
   "cell_type": "code",
   "execution_count": 3,
   "metadata": {},
   "outputs": [
    {
     "data": {
      "text/plain": [
       "(5,)"
      ]
     },
     "execution_count": 3,
     "metadata": {},
     "output_type": "execute_result"
    }
   ],
   "source": [
    "(5, )"
   ]
  },
  {
   "cell_type": "code",
   "execution_count": 4,
   "metadata": {},
   "outputs": [
    {
     "data": {
      "text/plain": [
       "[1, 3, 5, 7, 9, 3, 5, 6, 7, 9]"
      ]
     },
     "execution_count": 4,
     "metadata": {},
     "output_type": "execute_result"
    }
   ],
   "source": [
    "list_a=[1,3,5,7,9]\n",
    "list_b=[3,5,6,7,9]\n",
    "list_a+list_b"
   ]
  },
  {
   "cell_type": "code",
   "execution_count": 5,
   "metadata": {},
   "outputs": [
    {
     "data": {
      "text/plain": [
       "array([ 4,  8, 11, 14, 18])"
      ]
     },
     "execution_count": 5,
     "metadata": {},
     "output_type": "execute_result"
    }
   ],
   "source": [
    "import numpy as np\n",
    "array_a=np.array([1,3,5,7,9])\n",
    "array_b=np.array([3,5,6,7,9])\n",
    "type(array_a)\n",
    "array_a+array_b"
   ]
  },
  {
   "cell_type": "code",
   "execution_count": 6,
   "metadata": {},
   "outputs": [
    {
     "data": {
      "text/plain": [
       "(2, (2, 3), 6, dtype('int64'))"
      ]
     },
     "execution_count": 6,
     "metadata": {},
     "output_type": "execute_result"
    }
   ],
   "source": [
    "import numpy as np\n",
    "l=[[1,2,3],[2,3,4]]\n",
    "array=np.array(l)\n",
    "array.ndim,array.shape,array.size,array.dtype"
   ]
  },
  {
   "cell_type": "code",
   "execution_count": 7,
   "metadata": {},
   "outputs": [
    {
     "data": {
      "text/plain": [
       "array([[ 0.56304599,  0.08444436, -0.62186184, -0.56392452,  0.06145906],\n",
       "       [-0.30210458, -0.59608062, -0.37769209, -1.18700309,  0.36888571],\n",
       "       [-1.31102237, -0.14001234,  1.28395823, -0.45737487, -0.10581767],\n",
       "       [-0.11373655,  0.63937533,  0.49421382,  0.10344107, -0.08993887],\n",
       "       [ 1.56212772, -0.22879682,  1.12210595,  1.58245655,  0.20262595],\n",
       "       [ 0.7582223 , -1.48937209,  0.92188499, -0.92441371,  0.03323024],\n",
       "       [ 0.99617707, -0.90199626, -0.4469326 ,  0.22455071, -0.85548376],\n",
       "       [ 0.36831126,  1.77660678, -1.65457681, -0.19312282,  0.51241218],\n",
       "       [ 0.44076387,  0.4221607 ,  0.78029717, -1.2080913 , -1.21379195],\n",
       "       [-0.46559136,  0.63697632, -0.59459461, -0.69660072, -1.46244831]])"
      ]
     },
     "execution_count": 7,
     "metadata": {},
     "output_type": "execute_result"
    }
   ],
   "source": [
    "import numpy as np\n",
    "np.random.randn(10,5)"
   ]
  },
  {
   "cell_type": "code",
   "execution_count": null,
   "metadata": {},
   "outputs": [],
   "source": []
  }
 ],
 "metadata": {
  "kernelspec": {
   "display_name": "Python 3",
   "language": "python",
   "name": "python3"
  },
  "language_info": {
   "codemirror_mode": {
    "name": "ipython",
    "version": 3
   },
   "file_extension": ".py",
   "mimetype": "text/x-python",
   "name": "python",
   "nbconvert_exporter": "python",
   "pygments_lexer": "ipython3",
   "version": "3.11.9"
  }
 },
 "nbformat": 4,
 "nbformat_minor": 2
}
