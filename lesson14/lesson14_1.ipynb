{
 "cells": [
  {
   "cell_type": "code",
   "execution_count": 1,
   "metadata": {},
   "outputs": [
    {
     "data": {
      "text/plain": [
       "(5, 7)"
      ]
     },
     "execution_count": 1,
     "metadata": {},
     "output_type": "execute_result"
    }
   ],
   "source": [
    "(5,7)"
   ]
  },
  {
   "cell_type": "code",
   "execution_count": 2,
   "metadata": {},
   "outputs": [
    {
     "data": {
      "text/plain": [
       "(5, 7)"
      ]
     },
     "execution_count": 2,
     "metadata": {},
     "output_type": "execute_result"
    }
   ],
   "source": [
    "5,7"
   ]
  },
  {
   "cell_type": "code",
   "execution_count": 3,
   "metadata": {},
   "outputs": [
    {
     "data": {
      "text/plain": [
       "(5,)"
      ]
     },
     "execution_count": 3,
     "metadata": {},
     "output_type": "execute_result"
    }
   ],
   "source": [
    "(5, )"
   ]
  },
  {
   "cell_type": "code",
   "execution_count": 4,
   "metadata": {},
   "outputs": [
    {
     "data": {
      "text/plain": [
       "[1, 3, 5, 7, 9, 3, 5, 6, 7, 9]"
      ]
     },
     "execution_count": 4,
     "metadata": {},
     "output_type": "execute_result"
    }
   ],
   "source": [
    "list_a=[1,3,5,7,9]\n",
    "list_b=[3,5,6,7,9]\n",
    "list_a+list_b"
   ]
  },
  {
   "cell_type": "code",
   "execution_count": 5,
   "metadata": {},
   "outputs": [
    {
     "data": {
      "text/plain": [
       "array([ 4,  8, 11, 14, 18])"
      ]
     },
     "execution_count": 5,
     "metadata": {},
     "output_type": "execute_result"
    }
   ],
   "source": [
    "import numpy as np\n",
    "array_a=np.array([1,3,5,7,9])\n",
    "array_b=np.array([3,5,6,7,9])\n",
    "type(array_a)\n",
    "array_a+array_b"
   ]
  },
  {
   "cell_type": "code",
   "execution_count": 6,
   "metadata": {},
   "outputs": [
    {
     "data": {
      "text/plain": [
       "(2, (2, 3), 6, dtype('int64'))"
      ]
     },
     "execution_count": 6,
     "metadata": {},
     "output_type": "execute_result"
    }
   ],
   "source": [
    "import numpy as np\n",
    "l=[[1,2,3],[2,3,4]]\n",
    "array=np.array(l)\n",
    "array.ndim,array.shape,array.size,array.dtype"
   ]
  },
  {
   "cell_type": "code",
   "execution_count": 7,
   "metadata": {},
   "outputs": [
    {
     "data": {
      "text/plain": [
       "array([[ 0.56304599,  0.08444436, -0.62186184, -0.56392452,  0.06145906],\n",
       "       [-0.30210458, -0.59608062, -0.37769209, -1.18700309,  0.36888571],\n",
       "       [-1.31102237, -0.14001234,  1.28395823, -0.45737487, -0.10581767],\n",
       "       [-0.11373655,  0.63937533,  0.49421382,  0.10344107, -0.08993887],\n",
       "       [ 1.56212772, -0.22879682,  1.12210595,  1.58245655,  0.20262595],\n",
       "       [ 0.7582223 , -1.48937209,  0.92188499, -0.92441371,  0.03323024],\n",
       "       [ 0.99617707, -0.90199626, -0.4469326 ,  0.22455071, -0.85548376],\n",
       "       [ 0.36831126,  1.77660678, -1.65457681, -0.19312282,  0.51241218],\n",
       "       [ 0.44076387,  0.4221607 ,  0.78029717, -1.2080913 , -1.21379195],\n",
       "       [-0.46559136,  0.63697632, -0.59459461, -0.69660072, -1.46244831]])"
      ]
     },
     "execution_count": 7,
     "metadata": {},
     "output_type": "execute_result"
    }
   ],
   "source": [
    "import numpy as np\n",
    "np.random.randn(10,5)"
   ]
  },
  {
   "cell_type": "code",
   "execution_count": 11,
   "metadata": {},
   "outputs": [
    {
     "data": {
      "text/plain": [
       "array([[ 96,  51,  85,  90,  80],\n",
       "       [ 77, 100,  57,  61,  77],\n",
       "       [ 78,  51,  69,  66,  95],\n",
       "       [ 54,  75,  65,  58,  62],\n",
       "       [ 99,  96,  57,  67,  80],\n",
       "       [ 75,  70,  58,  82,  58],\n",
       "       [ 93,  92,  95,  92,  88],\n",
       "       [ 51,  71,  85,  53,  80],\n",
       "       [ 88,  62,  54,  67, 100],\n",
       "       [ 68,  80,  89,  71,  98],\n",
       "       [ 93,  98,  79,  75,  56],\n",
       "       [ 98,  63,  76,  59,  54],\n",
       "       [ 64,  74,  62,  53,  64],\n",
       "       [ 89,  83,  70,  98,  51],\n",
       "       [ 83,  75,  52,  90,  86],\n",
       "       [ 50,  91,  77,  57,  66],\n",
       "       [ 66,  96,  92,  56,  71],\n",
       "       [ 70,  59,  98,  92,  78],\n",
       "       [ 89,  67,  54,  66,  50],\n",
       "       [ 76,  64,  56,  66,  71],\n",
       "       [ 92,  68,  73, 100,  62],\n",
       "       [ 51,  75,  50,  71,  81],\n",
       "       [ 75,  74,  83,  94,  80],\n",
       "       [ 62,  85,  80,  92,  92],\n",
       "       [ 76,  80,  79,  54,  64],\n",
       "       [ 52,  57,  55,  82,  86],\n",
       "       [ 65,  80,  78, 100,  57],\n",
       "       [ 71,  69,  53,  73,  91],\n",
       "       [ 84,  73,  80,  54, 100],\n",
       "       [ 76,  89,  82,  95,  94],\n",
       "       [ 61,  79,  75,  70,  86],\n",
       "       [ 96,  80,  58,  69,  92],\n",
       "       [ 53,  88,  62,  81,  51],\n",
       "       [ 83,  55,  63,  92,  61],\n",
       "       [ 87,  55,  87,  98,  67],\n",
       "       [ 94,  53,  77,  67,  86],\n",
       "       [ 93,  50,  82,  81,  90],\n",
       "       [ 73,  76,  52,  82,  71],\n",
       "       [ 61,  73,  66,  93,  51],\n",
       "       [ 74,  94,  78,  74,  59],\n",
       "       [ 85,  51,  86,  79,  95],\n",
       "       [ 93,  89,  70,  95,  55],\n",
       "       [ 84,  53,  62,  73,  65],\n",
       "       [ 84,  92,  66,  95,  77],\n",
       "       [ 70,  81,  57,  91,  69],\n",
       "       [ 78,  95,  79,  71,  95],\n",
       "       [ 77,  57,  69,  86,  63],\n",
       "       [ 77,  75,  65, 100,  82],\n",
       "       [ 89,  53,  61,  53,  59],\n",
       "       [ 60,  87,  56,  92,  74]])"
      ]
     },
     "execution_count": 11,
     "metadata": {},
     "output_type": "execute_result"
    }
   ],
   "source": [
    "#50位學生 每位有5個分數\n",
    "sc=np.random.randint(50,101,size=(50,5))\n",
    "sc"
   ]
  }
 ],
 "metadata": {
  "kernelspec": {
   "display_name": "Python 3",
   "language": "python",
   "name": "python3"
  },
  "language_info": {
   "codemirror_mode": {
    "name": "ipython",
    "version": 3
   },
   "file_extension": ".py",
   "mimetype": "text/x-python",
   "name": "python",
   "nbconvert_exporter": "python",
   "pygments_lexer": "ipython3",
   "version": "3.11.9"
  }
 },
 "nbformat": 4,
 "nbformat_minor": 2
}
