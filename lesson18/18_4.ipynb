{
 "cells": [
  {
   "cell_type": "code",
   "execution_count": null,
   "metadata": {},
   "outputs": [],
   "source": [
    "#zip檔轉csv檔\n"
   ]
  },
  {
   "cell_type": "code",
   "execution_count": null,
   "metadata": {},
   "outputs": [],
   "source": [
    "import pandas as pd\n",
    "file_path = '每日各站進出站人數/每日各站進出站人數2020.csv'\n",
    "df1 = pd.read_csv(file_path)"
   ]
  },
  {
   "cell_type": "code",
   "execution_count": null,
   "metadata": {},
   "outputs": [],
   "source": [
    "df2 = df1.rename(columns={\"trnOpDate\":\"乘車日\",\n",
    "            \"staCode\":\"車站代碼\",\n",
    "            \"gateInComingCnt\":\"進站人數\",\n",
    "            \"gateOutGoingCnt\":\"出站人數\"})\n",
    "df2"
   ]
  },
  {
   "cell_type": "code",
   "execution_count": null,
   "metadata": {},
   "outputs": [],
   "source": [
    "import json\n",
    "from pprint import pprint\n",
    "\n",
    "with open('車站基本資料集.json',encoding='utf-8') as file:\n",
    "   json_data = json.load(file)\n",
    "\n",
    "stations_info = pd.DataFrame(json_data,columns=['stationCode','stationName'])\n",
    "stations_info['stationCode'] = stations_info['stationCode'].map(lambda value:int(value))\n",
    "stations_info.info()"
   ]
  },
  {
   "cell_type": "code",
   "execution_count": null,
   "metadata": {},
   "outputs": [],
   "source": [
    "import json\n",
    "from pprint import pprint\n",
    "\n",
    "with open('車站基本資料集.json',encoding='utf-8') as file:\n",
    "   json_data = json.load(file)\n",
    "\n",
    "stations_info = pd.DataFrame(json_data,columns=['stationCode','stationName'])\n",
    "stations_info = stations_info.astype({'stationCode':'int32'})\n",
    "stations_info.info()"
   ]
  },
  {
   "cell_type": "code",
   "execution_count": null,
   "metadata": {},
   "outputs": [],
   "source": [
    "#使用pd.merge()\n",
    "df1 = pd.merge(df2,stations_info,left_on='車站代碼',right_on='stationCode')\n",
    "df2 = df1.rename(columns={'stationName':'車站名稱'})"
   ]
  },
  {
   "cell_type": "code",
   "execution_count": null,
   "metadata": {},
   "outputs": [],
   "source": [
    "#df2.drop(columns=['車站代碼','stationCode'])\n",
    "df3=df2.reindex(columns=['乘車日','車站名稱','進站人數','出站人數'])\n",
    "df3"
   ]
  },
  {
   "cell_type": "code",
   "execution_count": null,
   "metadata": {},
   "outputs": [],
   "source": [
    "df3['乘車日'] = pd.to_datetime(df3['乘車日'].astype(str))\n",
    "df3"
   ]
  },
  {
   "cell_type": "code",
   "execution_count": null,
   "metadata": {},
   "outputs": [],
   "source": [
    "import os\n",
    "os.listdir('每日各站進出站人數')"
   ]
  }
 ],
 "metadata": {
  "kernelspec": {
   "display_name": "Python 3",
   "language": "python",
   "name": "python3"
  },
  "language_info": {
   "name": "python",
   "version": "3.11.9"
  }
 },
 "nbformat": 4,
 "nbformat_minor": 2
}
