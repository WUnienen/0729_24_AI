{
 "cells": [
  {
   "cell_type": "code",
   "execution_count": 12,
   "metadata": {},
   "outputs": [],
   "source": [
    "# 請下載日射量json資料,存檔名稱為'台灣日射量.json'\n",
    "import requests\n",
    "from requests.exceptions import HTTPError,ConnectionError,Timeout\n",
    "\n",
    "try:\n",
    "    url = \"https://opendata.cwa.gov.tw/fileapi/v1/opendataapi/O-A0091-001?Authorization=rdec-key-123-45678-011121314&format=JSON\"\n",
    "    response = requests.get(url)\n",
    "    response.raise_for_status()\n",
    "    content = response.text\n",
    "    #print(content)\n",
    "except ConnectionError:\n",
    "    print(\"連線伺服器發生錯誤\")\n",
    "except Timeout:\n",
    "    print(\"伺服器忙碌,沒有回應\")\n",
    "except HTTPError:\n",
    "    print(\"伺服器回應連線錯誤\")\n",
    "except Exception:\n",
    "    print(\"不知名的錯誤\")"
   ]
  },
  {
   "cell_type": "code",
   "execution_count": 2,
   "metadata": {},
   "outputs": [
    {
     "ename": "NameError",
     "evalue": "name 'contents' is not defined",
     "output_type": "error",
     "traceback": [
      "\u001b[0;31m---------------------------------------------------------------------------\u001b[0m",
      "\u001b[0;31mNameError\u001b[0m                                 Traceback (most recent call last)",
      "Cell \u001b[0;32mIn[2], line 4\u001b[0m\n\u001b[1;32m      2\u001b[0m \u001b[38;5;28;01mimport\u001b[39;00m \u001b[38;5;21;01mjson\u001b[39;00m\n\u001b[1;32m      3\u001b[0m \u001b[38;5;28;01mfrom\u001b[39;00m \u001b[38;5;21;01mpprint\u001b[39;00m \u001b[38;5;28;01mimport\u001b[39;00m pprint\n\u001b[0;32m----> 4\u001b[0m file\u001b[38;5;241m=\u001b[39mio\u001b[38;5;241m.\u001b[39mStringIO(\u001b[43mcontents\u001b[49m)\n\u001b[1;32m      5\u001b[0m \u001b[38;5;66;03m#print(type(file))\u001b[39;00m\n\u001b[1;32m      6\u001b[0m contents\u001b[38;5;241m=\u001b[39mjson\u001b[38;5;241m.\u001b[39mload(file)\n",
      "\u001b[0;31mNameError\u001b[0m: name 'contents' is not defined"
     ]
    }
   ],
   "source": [
    "import io\n",
    "import json\n",
    "from pprint import pprint\n",
    "file=io.StringIO(contents)\n",
    "#print(type(file))\n",
    "contents=json.load(file)"
   ]
  },
  {
   "cell_type": "code",
   "execution_count": 14,
   "metadata": {},
   "outputs": [
    {
     "ename": "NameError",
     "evalue": "name 'contents' is not defined",
     "output_type": "error",
     "traceback": [
      "\u001b[0;31m---------------------------------------------------------------------------\u001b[0m",
      "\u001b[0;31mNameError\u001b[0m                                 Traceback (most recent call last)",
      "Cell \u001b[0;32mIn[14], line 1\u001b[0m\n\u001b[0;32m----> 1\u001b[0m date:\u001b[38;5;28mstr\u001b[39m\u001b[38;5;241m=\u001b[39m\u001b[43mcontents\u001b[49m[\u001b[38;5;124m'\u001b[39m\u001b[38;5;124mcwaopendata\u001b[39m\u001b[38;5;124m'\u001b[39m][\u001b[38;5;124m'\u001b[39m\u001b[38;5;124msent\u001b[39m\u001b[38;5;124m'\u001b[39m]\n",
      "\u001b[0;31mNameError\u001b[0m: name 'contents' is not defined"
     ]
    }
   ],
   "source": [
    "date:str=contents['cwaopendata']['sent']"
   ]
  },
  {
   "cell_type": "code",
   "execution_count": 3,
   "metadata": {},
   "outputs": [
    {
     "ename": "NameError",
     "evalue": "name 'contents' is not defined",
     "output_type": "error",
     "traceback": [
      "\u001b[0;31m---------------------------------------------------------------------------\u001b[0m",
      "\u001b[0;31mNameError\u001b[0m                                 Traceback (most recent call last)",
      "Cell \u001b[0;32mIn[3], line 1\u001b[0m\n\u001b[0;32m----> 1\u001b[0m station\u001b[38;5;241m=\u001b[39m\u001b[43mcontents\u001b[49m[\u001b[38;5;124m'\u001b[39m\u001b[38;5;124mcwaopendata\u001b[39m\u001b[38;5;124m'\u001b[39m][\u001b[38;5;124m'\u001b[39m\u001b[38;5;124mdataset\u001b[39m\u001b[38;5;124m'\u001b[39m][\u001b[38;5;124m'\u001b[39m\u001b[38;5;124mStation\u001b[39m\u001b[38;5;124m'\u001b[39m]\n\u001b[1;32m      2\u001b[0m pprint(station)\n",
      "\u001b[0;31mNameError\u001b[0m: name 'contents' is not defined"
     ]
    }
   ],
   "source": [
    "station=contents['cwaopendata']['dataset']['Station']\n",
    "pprint(station)"
   ]
  },
  {
   "cell_type": "code",
   "execution_count": 11,
   "metadata": {},
   "outputs": [
    {
     "ename": "NameError",
     "evalue": "name 'stations' is not defined",
     "output_type": "error",
     "traceback": [
      "\u001b[0;31m---------------------------------------------------------------------------\u001b[0m",
      "\u001b[0;31mNameError\u001b[0m                                 Traceback (most recent call last)",
      "Cell \u001b[0;32mIn[11], line 1\u001b[0m\n\u001b[0;32m----> 1\u001b[0m \u001b[38;5;28;01mfor\u001b[39;00m station \u001b[38;5;129;01min\u001b[39;00m \u001b[43mstations\u001b[49m:\n\u001b[1;32m      2\u001b[0m     name:\u001b[38;5;28mstr\u001b[39m\u001b[38;5;241m=\u001b[39mstation[\u001b[38;5;124m'\u001b[39m\u001b[38;5;124mStationName\u001b[39m\u001b[38;5;124m'\u001b[39m]\n\u001b[1;32m      3\u001b[0m     weather:\u001b[38;5;28mstr\u001b[39m\u001b[38;5;241m=\u001b[39mstation[\u001b[38;5;124m'\u001b[39m\u001b[38;5;124mWeatherElement\u001b[39m\u001b[38;5;124m'\u001b[39m][\u001b[38;5;124m'\u001b[39m\u001b[38;5;124mSolarRadiation\u001b[39m\u001b[38;5;124m'\u001b[39m]\n",
      "\u001b[0;31mNameError\u001b[0m: name 'stations' is not defined"
     ]
    }
   ],
   "source": [
    "for station in stations:\n",
    "    name:str=station['StationName']\n",
    "    weather:str=station['WeatherElement']['SolarRadiation']\n",
    "    print(name,weather)\n",
    "    print(\"================\")"
   ]
  },
  {
   "cell_type": "code",
   "execution_count": 16,
   "metadata": {},
   "outputs": [
    {
     "ename": "NameError",
     "evalue": "name 'stations' is not defined",
     "output_type": "error",
     "traceback": [
      "\u001b[0;31m---------------------------------------------------------------------------\u001b[0m",
      "\u001b[0;31mNameError\u001b[0m                                 Traceback (most recent call last)",
      "Cell \u001b[0;32mIn[16], line 7\u001b[0m\n\u001b[1;32m      4\u001b[0m         \u001b[38;5;28mself\u001b[39m\u001b[38;5;241m.\u001b[39mweather\u001b[38;5;241m=\u001b[39mweather\n\u001b[1;32m      6\u001b[0m stations1:\u001b[38;5;28mlist\u001b[39m\u001b[38;5;241m=\u001b[39m[]\n\u001b[0;32m----> 7\u001b[0m \u001b[38;5;28;01mfor\u001b[39;00m station \u001b[38;5;129;01min\u001b[39;00m \u001b[43mstations\u001b[49m:\n\u001b[1;32m      8\u001b[0m     name:\u001b[38;5;28mstr\u001b[39m\u001b[38;5;241m=\u001b[39mstation[\u001b[38;5;124m'\u001b[39m\u001b[38;5;124mStationName\u001b[39m\u001b[38;5;124m'\u001b[39m]\n\u001b[1;32m      9\u001b[0m     weather:\u001b[38;5;28mstr\u001b[39m\u001b[38;5;241m=\u001b[39mstation[\u001b[38;5;124m'\u001b[39m\u001b[38;5;124mWeatherElement\u001b[39m\u001b[38;5;124m'\u001b[39m][\u001b[38;5;124m'\u001b[39m\u001b[38;5;124mSolarRadiation\u001b[39m\u001b[38;5;124m'\u001b[39m]\n",
      "\u001b[0;31mNameError\u001b[0m: name 'stations' is not defined"
     ]
    }
   ],
   "source": [
    "class Station():\n",
    "    def __init__(self,name:str,weather:float):\n",
    "        self.name=name\n",
    "        self.weather=weather\n",
    "\n",
    "stations1:list=[]\n",
    "for station in stations:\n",
    "    name:str=station['StationName']\n",
    "    weather:str=station['WeatherElement']['SolarRadiation']\n",
    "    station:Station=Station(name,float(weather))\n",
    "    stations1.append(station)\n",
    "\n",
    "stations1"
   ]
  },
  {
   "cell_type": "code",
   "execution_count": null,
   "metadata": {},
   "outputs": [],
   "source": []
  }
 ],
 "metadata": {
  "kernelspec": {
   "display_name": "Python 3",
   "language": "python",
   "name": "python3"
  },
  "language_info": {
   "codemirror_mode": {
    "name": "ipython",
    "version": 3
   },
   "file_extension": ".py",
   "mimetype": "text/x-python",
   "name": "python",
   "nbconvert_exporter": "python",
   "pygments_lexer": "ipython3",
   "version": "3.11.9"
  }
 },
 "nbformat": 4,
 "nbformat_minor": 2
}
