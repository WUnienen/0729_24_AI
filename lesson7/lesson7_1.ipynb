{
 "cells": [
  {
   "cell_type": "code",
   "execution_count": null,
   "metadata": {},
   "outputs": [],
   "source": [
    "import random\n",
    "random.randint(1,100)"
   ]
  },
  {
   "cell_type": "code",
   "execution_count": null,
   "metadata": {},
   "outputs": [],
   "source": [
    "#猜數字遊戲\n",
    "import random\n",
    "min=1\n",
    "max=100\n",
    "t=random.randint(1,100)\n",
    "print(\"===========猜數字==========\")\n",
    "while True:\n",
    "    break\n",
    "print(\"應用程式結束\")"
   ]
  }
 ],
 "metadata": {
  "language_info": {
   "name": "python"
  }
 },
 "nbformat": 4,
 "nbformat_minor": 2
}
