{
 "cells": [
  {
   "cell_type": "code",
   "execution_count": null,
   "metadata": {},
   "outputs": [],
   "source": [
    "import random\n",
    "random.randint(1,100)"
   ]
  },
  {
   "cell_type": "code",
   "execution_count": 3,
   "metadata": {},
   "outputs": [
    {
     "name": "stdout",
     "output_type": "stream",
     "text": [
      "請輸入整數:Number must be at maximum 100.\n",
      "請輸入整數:Number must be at minimum 1.\n",
      "請輸入整數:'100m' is not an integer.\n",
      "請輸入整數:'100m' is not an integer.\n",
      "請輸入整數:50\n"
     ]
    }
   ],
   "source": [
    "import pyinputplus as pyip\n",
    "n= pyip.inputInt('請輸入整數:',min=1,max=100)\n",
    "print(n)"
   ]
  },
  {
   "cell_type": "code",
   "execution_count": 1,
   "metadata": {},
   "outputs": [
    {
     "name": "stdout",
     "output_type": "stream",
     "text": [
      "===========猜數字==========\n",
      "猜數字範圍1-100:Blank values are not allowed.\n",
      "猜數字範圍1-100:在小一點\n",
      "您已經猜了1次\n",
      "猜數字範圍1-49:Number must be at maximum 49.\n",
      "猜數字範圍1-49:Number must be at maximum 49.\n",
      "猜數字範圍1-49:在小一點\n",
      "您已經猜了2次\n",
      "猜數字範圍1-24:在小一點\n",
      "您已經猜了3次\n",
      "猜數字範圍1-23:Number must be at maximum 23.\n",
      "猜數字範圍1-23:再大一點\n",
      "您已經猜了4次\n",
      "猜數字範圍16-23:在小一點\n",
      "您已經猜了5次\n",
      "猜數字範圍16-21:在小一點\n",
      "您已經猜了6次\n",
      "猜數字範圍16-20:"
     ]
    }
   ],
   "source": [
    "#猜數字遊戲\n",
    "import random\n",
    "import pyinputplus as pyip\n",
    "\n",
    "min=1\n",
    "max=100\n",
    "c=0\n",
    "t=random.randint(1,100)\n",
    "print(\"===========猜數字==========\")\n",
    "while True:\n",
    "    c+=1\n",
    "    k=pyip.inputInt(f\"猜數字範圍{min}-{max}:\",min=min,max=max)\n",
    "    if k==t:\n",
    "        print(f\"對了 答案是{k}\")\n",
    "        print(f\"您猜了{c}次\")\n",
    "        break\n",
    "    elif k>t:\n",
    "        print(\"在小一點\")\n",
    "        max=k-1\n",
    "    elif k<t:\n",
    "        print(\"再大一點\")\n",
    "        min=k+1\n",
    "    print(f\"您已經猜了{c}次\")\n",
    "print(\"應用程式結束\")"
   ]
  }
 ],
 "metadata": {
  "kernelspec": {
   "display_name": "Python 3",
   "language": "python",
   "name": "python3"
  },
  "language_info": {
   "codemirror_mode": {
    "name": "ipython",
    "version": 3
   },
   "file_extension": ".py",
   "mimetype": "text/x-python",
   "name": "python",
   "nbconvert_exporter": "python",
   "pygments_lexer": "ipython3",
   "version": "3.11.9"
  }
 },
 "nbformat": 4,
 "nbformat_minor": 2
}
