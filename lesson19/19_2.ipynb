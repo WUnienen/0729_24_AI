{
 "cells": [
  {
   "cell_type": "code",
   "execution_count": null,
   "metadata": {},
   "outputs": [],
   "source": [
    "import os\n",
    "current_dir = os.getcwd()\n",
    "csv_dir = os.path.join(current_dir,'每日各站進出站人數')\n",
    "files_and_dirs = os.listdir(csv_dir)\n",
    "files_and_dirs"
   ]
  },
  {
   "cell_type": "code",
   "execution_count": null,
   "metadata": {},
   "outputs": [],
   "source": [
    "for filename in files_and_dirs:\n",
    "    if '每日各站進出站人數' in filename:\n",
    "        print(filename)"
   ]
  },
  {
   "cell_type": "code",
   "execution_count": null,
   "metadata": {},
   "outputs": [],
   "source": [
    "all_csv_files = [filename for filename in files_and_dirs if '每日各站進出站人數' in filename]"
   ]
  },
  {
   "cell_type": "code",
   "execution_count": null,
   "metadata": {},
   "outputs": [],
   "source": [
    "sorted_csv_files = sorted(all_csv_files)"
   ]
  },
  {
   "cell_type": "code",
   "execution_count": null,
   "metadata": {},
   "outputs": [],
   "source": [
    "import pandas as pd\n",
    "import json\n",
    "\n",
    "def parse_data(filename):\n",
    "    df1 = pd.read_csv(filename)\n",
    "    df2 = df1.rename(columns={\"trnOpDate\":\"乘車日\",\n",
    "            \"staCode\":\"車站代碼\",\n",
    "            \"gateInComingCnt\":\"進站人數\",\n",
    "            \"gateOutGoingCnt\":\"出站人數\"})\n",
    "    with open('車站基本資料集.json',encoding='utf-8') as file:\n",
    "        json_data = json.load(file)\n",
    "        stations_info = pd.DataFrame(json_data,columns=['stationCode','stationName'])\n",
    "        stations_info = stations_info.astype({'stationCode':'int32'})\n",
    "    df3 = pd.merge(df2,stations_info,left_on='車站代碼',right_on='stationCode')\n",
    "    df4 = df3.rename(columns={'stationName':'車站名稱'})\n",
    "    df5 = df4.reindex(columns=['乘車日','車站名稱','進站人數','出站人數'])\n",
    "    df5['乘車日'] = pd.to_datetime(df5['乘車日'].astype(str))\n",
    "    return df5\n",
    "    \n",
    "\n",
    "    \n",
    "all_final_dfs = [] \n",
    "for filename in sorted_csv_files:\n",
    "    abs_filename = os.path.join(csv_dir,filename)\n",
    "    all_final_dfs.append(parse_data(abs_filename))\n",
    "df_done = pd.concat(all_final_dfs)\n",
    "df_done.info()\n",
    "    "
   ]
  },
  {
   "cell_type": "code",
   "execution_count": null,
   "metadata": {},
   "outputs": [],
   "source": [
    "df_done1 = df_done.set_index('乘車日')\n",
    "df_done1"
   ]
  }
 ],
 "metadata": {
  "language_info": {
   "name": "python"
  }
 },
 "nbformat": 4,
 "nbformat_minor": 2
}
