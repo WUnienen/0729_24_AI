{
 "cells": [
  {
   "cell_type": "code",
   "execution_count": 2,
   "metadata": {},
   "outputs": [
    {
     "ename": "ModuleNotFoundError",
     "evalue": "No module named 'yfinance'",
     "output_type": "error",
     "traceback": [
      "\u001b[0;31m---------------------------------------------------------------------------\u001b[0m",
      "\u001b[0;31mModuleNotFoundError\u001b[0m                       Traceback (most recent call last)",
      "Cell \u001b[0;32mIn[2], line 1\u001b[0m\n\u001b[0;32m----> 1\u001b[0m \u001b[38;5;28;01mimport\u001b[39;00m \u001b[38;5;21;01myfinance\u001b[39;00m \u001b[38;5;28;01mas\u001b[39;00m \u001b[38;5;21;01myf\u001b[39;00m\n\u001b[1;32m      2\u001b[0m \u001b[38;5;28;01mimport\u001b[39;00m \u001b[38;5;21;01mpandas\u001b[39;00m \u001b[38;5;28;01mas\u001b[39;00m \u001b[38;5;21;01mpd\u001b[39;00m\n\u001b[1;32m      4\u001b[0m \u001b[38;5;66;03m#國泰金(2882.TW),新光金(2888.TW),中信金(2891.TW),台新金(2887.TW)\u001b[39;00m\n",
      "\u001b[0;31mModuleNotFoundError\u001b[0m: No module named 'yfinance'"
     ]
    }
   ],
   "source": [
    "import yfinance as yf\n",
    "import pandas as pd\n",
    "\n",
    "#國泰金(2882.TW),新光金(2888.TW),中信金(2891.TW),台新金(2887.TW)\n",
    "all_data = {ticker:yf.download(ticker) for ticker in ['2882.TW','2888.TW','2891.TW','2887.TW']}"
   ]
  },
  {
   "cell_type": "code",
   "execution_count": 3,
   "metadata": {},
   "outputs": [
    {
     "ename": "NameError",
     "evalue": "name 'all_data' is not defined",
     "output_type": "error",
     "traceback": [
      "\u001b[0;31m---------------------------------------------------------------------------\u001b[0m",
      "\u001b[0;31mNameError\u001b[0m                                 Traceback (most recent call last)",
      "Cell \u001b[0;32mIn[3], line 1\u001b[0m\n\u001b[0;32m----> 1\u001b[0m all_data1 \u001b[38;5;241m=\u001b[39m {ticker:df[\u001b[38;5;124m'\u001b[39m\u001b[38;5;124mAdj Close\u001b[39m\u001b[38;5;124m'\u001b[39m] \u001b[38;5;28;01mfor\u001b[39;00m ticker,df \u001b[38;5;129;01min\u001b[39;00m \u001b[43mall_data\u001b[49m\u001b[38;5;241m.\u001b[39mitems()}\n\u001b[1;32m      2\u001b[0m prices_df \u001b[38;5;241m=\u001b[39m pd\u001b[38;5;241m.\u001b[39mDataFrame(all_data1)\n\u001b[1;32m      4\u001b[0m prices_df\u001b[38;5;241m.\u001b[39mcolumns \u001b[38;5;241m=\u001b[39m [\u001b[38;5;124m'\u001b[39m\u001b[38;5;124m國泰金\u001b[39m\u001b[38;5;124m'\u001b[39m,\u001b[38;5;124m'\u001b[39m\u001b[38;5;124m新光金\u001b[39m\u001b[38;5;124m'\u001b[39m,\u001b[38;5;124m'\u001b[39m\u001b[38;5;124m中信金\u001b[39m\u001b[38;5;124m'\u001b[39m,\u001b[38;5;124m'\u001b[39m\u001b[38;5;124m台新金\u001b[39m\u001b[38;5;124m'\u001b[39m]\n",
      "\u001b[0;31mNameError\u001b[0m: name 'all_data' is not defined"
     ]
    }
   ],
   "source": [
    "all_data1 = {ticker:df['Adj Close'] for ticker,df in all_data.items()}\n",
    "prices_df = pd.DataFrame(all_data1)\n",
    "\n",
    "prices_df.columns = ['國泰金','新光金','中信金','台新金']\n",
    "prices_df1 = prices_df.dropna()\n",
    "prices_df1_2023 = prices_df1.loc['2023']\n",
    "\n",
    "#平均差\n",
    "prices_df1_2023_avg_diff = prices_df1_2023.pct_change()\n",
    "prices_df1_2023_avg_diff.dropna()\n",
    "\n",
    "#每日差\n",
    "prices_df1_2023_day_diff = prices_df1_2023 - prices_df1_2023.shift(1)\n",
    "prices_df1_2023_day_diff.dropna()\n",
    "\n",
    "#相關係數\n",
    "prices_df1_2023_avg_diff.corr()"
   ]
  },
  {
   "cell_type": "code",
   "execution_count": 4,
   "metadata": {},
   "outputs": [
    {
     "ename": "NameError",
     "evalue": "name 'prices_df1_2023' is not defined",
     "output_type": "error",
     "traceback": [
      "\u001b[0;31m---------------------------------------------------------------------------\u001b[0m",
      "\u001b[0;31mNameError\u001b[0m                                 Traceback (most recent call last)",
      "Cell \u001b[0;32mIn[4], line 1\u001b[0m\n\u001b[0;32m----> 1\u001b[0m \u001b[43mprices_df1_2023\u001b[49m\n",
      "\u001b[0;31mNameError\u001b[0m: name 'prices_df1_2023' is not defined"
     ]
    }
   ],
   "source": [
    "prices_df1_2023"
   ]
  },
  {
   "cell_type": "code",
   "execution_count": 5,
   "metadata": {},
   "outputs": [
    {
     "ename": "NameError",
     "evalue": "name 'prices_df1_2023' is not defined",
     "output_type": "error",
     "traceback": [
      "\u001b[0;31m---------------------------------------------------------------------------\u001b[0m",
      "\u001b[0;31mNameError\u001b[0m                                 Traceback (most recent call last)",
      "Cell \u001b[0;32mIn[5], line 10\u001b[0m\n\u001b[1;32m      7\u001b[0m     \u001b[38;5;28mprint\u001b[39m(max_date\u001b[38;5;241m.\u001b[39myear)\n\u001b[1;32m      8\u001b[0m     \u001b[38;5;28;01mreturn\u001b[39;00m pd\u001b[38;5;241m.\u001b[39mSeries([\u001b[38;5;28mmax\u001b[39m,max_date,\u001b[38;5;28mmin\u001b[39m,min_date],index\u001b[38;5;241m=\u001b[39m[\u001b[38;5;124m'\u001b[39m\u001b[38;5;124m最高價\u001b[39m\u001b[38;5;124m'\u001b[39m,\u001b[38;5;124m'\u001b[39m\u001b[38;5;124m最高價日期\u001b[39m\u001b[38;5;124m'\u001b[39m,\u001b[38;5;124m'\u001b[39m\u001b[38;5;124m最低價\u001b[39m\u001b[38;5;124m'\u001b[39m,\u001b[38;5;124m'\u001b[39m\u001b[38;5;124m最低價日期\u001b[39m\u001b[38;5;124m'\u001b[39m])\n\u001b[0;32m---> 10\u001b[0m df_high_low_value\u001b[38;5;241m=\u001b[39m\u001b[43mprices_df1_2023\u001b[49m\u001b[38;5;241m.\u001b[39mapply(call)\n\u001b[1;32m     11\u001b[0m df_high_low_value\n",
      "\u001b[0;31mNameError\u001b[0m: name 'prices_df1_2023' is not defined"
     ]
    }
   ],
   "source": [
    "def call(s):\n",
    "    min=s.min()\n",
    "    max=s.max()\n",
    "    max_date=s.idxmax()\n",
    "    min_date=s.idxmin()\n",
    "    #print(type(max_date))\n",
    "    print(max_date.year)\n",
    "    return pd.Series([max,max_date,min,min_date],index=['最高價','最高價日期','最低價','最低價日期'])\n",
    "\n",
    "df_high_low_value=prices_df1_2023.apply(call)\n",
    "df_high_low_value"
   ]
  },
  {
   "cell_type": "code",
   "execution_count": 6,
   "metadata": {},
   "outputs": [
    {
     "ename": "NameError",
     "evalue": "name 'prices_df1_2023' is not defined",
     "output_type": "error",
     "traceback": [
      "\u001b[0;31m---------------------------------------------------------------------------\u001b[0m",
      "\u001b[0;31mNameError\u001b[0m                                 Traceback (most recent call last)",
      "Cell \u001b[0;32mIn[6], line 16\u001b[0m\n\u001b[1;32m     13\u001b[0m     min_str \u001b[38;5;241m=\u001b[39m \u001b[38;5;124mf\u001b[39m\u001b[38;5;124m'\u001b[39m\u001b[38;5;132;01m{\u001b[39;00m\u001b[38;5;28mmin\u001b[39m\u001b[38;5;132;01m:\u001b[39;00m\u001b[38;5;124m.4f\u001b[39m\u001b[38;5;132;01m}\u001b[39;00m\u001b[38;5;124m (\u001b[39m\u001b[38;5;132;01m{\u001b[39;00mmin_year\u001b[38;5;132;01m}\u001b[39;00m\u001b[38;5;124m-\u001b[39m\u001b[38;5;132;01m{\u001b[39;00mmin_month\u001b[38;5;132;01m}\u001b[39;00m\u001b[38;5;124m-\u001b[39m\u001b[38;5;132;01m{\u001b[39;00mmin_day\u001b[38;5;132;01m}\u001b[39;00m\u001b[38;5;124m)\u001b[39m\u001b[38;5;124m'\u001b[39m\n\u001b[1;32m     14\u001b[0m     \u001b[38;5;28;01mreturn\u001b[39;00m pd\u001b[38;5;241m.\u001b[39mSeries([max_str, min_str],index\u001b[38;5;241m=\u001b[39m[\u001b[38;5;124m'\u001b[39m\u001b[38;5;124m最高價\u001b[39m\u001b[38;5;124m'\u001b[39m,\u001b[38;5;124m'\u001b[39m\u001b[38;5;124m最低價\u001b[39m\u001b[38;5;124m'\u001b[39m])\n\u001b[0;32m---> 16\u001b[0m df_high_low_value \u001b[38;5;241m=\u001b[39m \u001b[43mprices_df1_2023\u001b[49m\u001b[38;5;241m.\u001b[39mapply(call)\n\u001b[1;32m     17\u001b[0m df_high_low_value\n",
      "\u001b[0;31mNameError\u001b[0m: name 'prices_df1_2023' is not defined"
     ]
    }
   ],
   "source": [
    "def call(s):    \n",
    "    max = s.max()\n",
    "    max_date = s.idxmax()\n",
    "    max_year = max_date.year\n",
    "    max_month = max_date.month\n",
    "    max_day = max_date.day\n",
    "    max_str = f'{max:.4f} ({max_year}-{max_month}-{max_day})'\n",
    "    min = s.min()\n",
    "    min_date = s.idxmin()\n",
    "    min_year = min_date.year\n",
    "    min_month = min_date.month\n",
    "    min_day = min_date.day\n",
    "    min_str = f'{min:.4f} ({min_year}-{min_month}-{min_day})'\n",
    "    return pd.Series([max_str, min_str],index=['最高價','最低價'])\n",
    "\n",
    "df_high_low_value = prices_df1_2023.apply(call)\n",
    "df_high_low_value"
   ]
  }
 ],
 "metadata": {
  "kernelspec": {
   "display_name": "Python 3",
   "language": "python",
   "name": "python3"
  },
  "language_info": {
   "codemirror_mode": {
    "name": "ipython",
    "version": 3
   },
   "file_extension": ".py",
   "mimetype": "text/x-python",
   "name": "python",
   "nbconvert_exporter": "python",
   "pygments_lexer": "ipython3",
   "version": "3.11.9"
  }
 },
 "nbformat": 4,
 "nbformat_minor": 2
}
