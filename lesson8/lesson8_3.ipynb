{
 "cells": [
  {
   "cell_type": "code",
   "execution_count": 2,
   "metadata": {},
   "outputs": [
    {
     "data": {
      "text/plain": [
       "__main__.Person"
      ]
     },
     "execution_count": 2,
     "metadata": {},
     "output_type": "execute_result"
    }
   ],
   "source": [
    "class Person():\n",
    "    pass\n",
    "p1=Person()#預設的初始化\n",
    "type(p1)\n",
    "p2=Person()\n",
    "type(p2)"
   ]
  },
  {
   "cell_type": "code",
   "execution_count": 4,
   "metadata": {},
   "outputs": [
    {
     "name": "stdout",
     "output_type": "stream",
     "text": [
      "Alice\n",
      "吳念恩\n"
     ]
    }
   ],
   "source": [
    "class Person():\n",
    "    def __init__(self,name:str):\n",
    "        self.name=name\n",
    "\n",
    "p1=Person(name='Alice')#自訂的init\n",
    "print(p1.name)\n",
    "p2=Person('吳念恩')\n",
    "print(p2.name)"
   ]
  },
  {
   "cell_type": "code",
   "execution_count": 8,
   "metadata": {},
   "outputs": [
    {
     "name": "stdout",
     "output_type": "stream",
     "text": [
      "我的名字是:Alice\n",
      ",國文分數:70\n",
      ",英文分數:95\n",
      "我的總分:165\n",
      "我的平均:82.5\n",
      "我的名字是:吳念恩\n",
      ",國文分數:86\n",
      ",英文分數:92\n",
      "我的總分:178\n",
      "我的平均:89.0\n"
     ]
    }
   ],
   "source": [
    "class Person():\n",
    "    def __init__(self,name:str,c:int,e:int):\n",
    "        self.name=name\n",
    "        self.chinese=c\n",
    "        self.english=e\n",
    "\n",
    "    def sum(self)->int:\n",
    "        return self.chinese+self.english\n",
    "    \n",
    "    def average(self)->float:\n",
    "        return self.sum() / 2.0\n",
    "    \n",
    "    def description(self)->str:#實體方法\n",
    "        return f'我的名字是:{self.name}\\n,國文分數:{self.chinese}\\n,英文分數:{self.english}'\n",
    "    \n",
    "p1=Person(name='Alice',e=95,c=70)#自訂的init\n",
    "print(p1.description())\n",
    "print(f'我的總分:{p1.sum()}')\n",
    "print(f'我的平均:{p1.average()}')\n",
    "p2=Person('吳念恩',86,92)\n",
    "print(p2.description())\n",
    "print(f'我的總分:{p2.sum()}')\n",
    "print(f'我的平均:{p2.average()}')"
   ]
  }
 ],
 "metadata": {
  "kernelspec": {
   "display_name": "Python 3",
   "language": "python",
   "name": "python3"
  },
  "language_info": {
   "codemirror_mode": {
    "name": "ipython",
    "version": 3
   },
   "file_extension": ".py",
   "mimetype": "text/x-python",
   "name": "python",
   "nbconvert_exporter": "python",
   "pygments_lexer": "ipython3",
   "version": "3.11.9"
  }
 },
 "nbformat": 4,
 "nbformat_minor": 2
}
