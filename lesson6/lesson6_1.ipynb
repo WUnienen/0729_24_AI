{
 "cells": [
  {
   "cell_type": "code",
   "execution_count": 6,
   "metadata": {},
   "outputs": [
    {
     "name": "stdout",
     "output_type": "stream",
     "text": [
      "你已經存了5個月,共存了30000元\n"
     ]
    }
   ],
   "source": [
    "d=0\n",
    "mth=0\n",
    "while d<30000:\n",
    "    mth+=1\n",
    "    m=int(input(f'請輸入第{mth}月份存款'))\n",
    "    d+=m\n",
    "print(f\"你已經存了{mth}個月,共存了{d}元\")"
   ]
  },
  {
   "cell_type": "code",
   "execution_count": 7,
   "metadata": {},
   "outputs": [
    {
     "name": "stdout",
     "output_type": "stream",
     "text": [
      "Janp\n",
      "程式結束\n"
     ]
    }
   ],
   "source": [
    "#輸入小寫英文字,將英文字第一個字變大寫\n",
    "s=input(\"輸入小寫英文字(案q會離開)\")\n",
    "#print(type(s))\n",
    "while not s =='q':\n",
    "    print(s.capitalize())\n",
    "    s=input(\"輸入小寫英文字(案q會離開)\")\n",
    "print(\"程式結束\")"
   ]
  },
  {
   "cell_type": "code",
   "execution_count": 8,
   "metadata": {},
   "outputs": [
    {
     "name": "stdout",
     "output_type": "stream",
     "text": [
      "Pan\n",
      "Pan11q\n",
      "程式結束\n"
     ]
    }
   ],
   "source": [
    "#輸入小寫英文字,將英文字第一個字變大寫\n",
    "#print(type(s))\n",
    "while True:\n",
    "    s=input(\"輸入小寫英文字(案q會離開)\")\n",
    "    if s=='q':\n",
    "        break\n",
    "    print(s.capitalize())\n",
    "print(\"程式結束\")"
   ]
  }
 ],
 "metadata": {
  "kernelspec": {
   "display_name": "Python 3",
   "language": "python",
   "name": "python3"
  },
  "language_info": {
   "codemirror_mode": {
    "name": "ipython",
    "version": 3
   },
   "file_extension": ".py",
   "mimetype": "text/x-python",
   "name": "python",
   "nbconvert_exporter": "python",
   "pygments_lexer": "ipython3",
   "version": "3.11.9"
  }
 },
 "nbformat": 4,
 "nbformat_minor": 2
}
