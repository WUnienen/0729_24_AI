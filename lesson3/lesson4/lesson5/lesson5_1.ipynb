{
 "cells": [
  {
   "cell_type": "code",
   "execution_count": 3,
   "metadata": {},
   "outputs": [
    {
     "name": "stdout",
     "output_type": "stream",
     "text": [
      "獎金:500\n"
     ]
    }
   ],
   "source": [
    "c=int(input(\"輸入國文分數:\"))\n",
    "m=int(input(\"輸入數學分數:\"))\n",
    "\n",
    "if c==100:\n",
    "    if m==100:\n",
    "        b=1000\n",
    "    else:\n",
    "        b=500\n",
    "else:\n",
    "    if m==100:\n",
    "        b=500\n",
    "    else:\n",
    "        b=0\n",
    "\n",
    "print(f\"獎金:{b}\")"
   ]
  },
  {
   "cell_type": "code",
   "execution_count": null,
   "metadata": {},
   "outputs": [],
   "source": [
    "c=int(input(\"輸入國文分數\"))\n",
    "m=int(input(\"輸入數學分數\"))\n",
    "\n",
    "if c==100 and m==100:\n",
    "    b=1000\n",
    "elif c==100 or m==100:\n",
    "    b=500\n",
    "else:\n",
    "    b=0\n",
    "print(f\"獎金:{b}\")\n"
   ]
  }
 ],
 "metadata": {
  "kernelspec": {
   "display_name": "Python 3",
   "language": "python",
   "name": "python3"
  },
  "language_info": {
   "codemirror_mode": {
    "name": "ipython",
    "version": 3
   },
   "file_extension": ".py",
   "mimetype": "text/x-python",
   "name": "python",
   "nbconvert_exporter": "python",
   "pygments_lexer": "ipython3",
   "version": "3.11.9"
  }
 },
 "nbformat": 4,
 "nbformat_minor": 2
}
