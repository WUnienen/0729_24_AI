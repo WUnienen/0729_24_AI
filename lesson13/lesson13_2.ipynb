{
 "cells": [
  {
   "cell_type": "code",
   "execution_count": 2,
   "metadata": {},
   "outputs": [
    {
     "data": {
      "text/plain": [
       "[3, 6, 9, 12, 15]"
      ]
     },
     "execution_count": 2,
     "metadata": {},
     "output_type": "execute_result"
    }
   ],
   "source": [
    "values=[1,2,3,4,5]\n",
    "multiply=3\n",
    "\n",
    "new_values=[]\n",
    "for i in values:\n",
    "    new_values.append(i*multiply)\n",
    "\n",
    "new_values"
   ]
  },
  {
   "cell_type": "code",
   "execution_count": 3,
   "metadata": {},
   "outputs": [
    {
     "data": {
      "text/plain": [
       "[3, 6, 9, 12, 15]"
      ]
     },
     "execution_count": 3,
     "metadata": {},
     "output_type": "execute_result"
    }
   ],
   "source": [
    "values=[1,2,3,4,5]\n",
    "multiply=3\n",
    "new_values=[i*multiply for i in values]\n",
    "new_values"
   ]
  },
  {
   "cell_type": "code",
   "execution_count": 4,
   "metadata": {},
   "outputs": [
    {
     "data": {
      "text/plain": [
       "[1, 2, 3, 4, 5, 1, 2, 3, 4, 5, 1, 2, 3, 4, 5]"
      ]
     },
     "execution_count": 4,
     "metadata": {},
     "output_type": "execute_result"
    }
   ],
   "source": [
    "values=[1,2,3,4,5]\n",
    "multiply=3\n",
    "values*multiply"
   ]
  },
  {
   "cell_type": "code",
   "execution_count": 9,
   "metadata": {},
   "outputs": [
    {
     "data": {
      "text/plain": [
       "array([ 3.14159, 12.56636, 28.27431, 50.26544, 78.53975])"
      ]
     },
     "execution_count": 9,
     "metadata": {},
     "output_type": "execute_result"
    }
   ],
   "source": [
    "import numpy as np\n",
    "values_array=np.array([1,2,3,4,5])\n",
    "multiply=3\n",
    "values_array*multiply\n",
    "values_array**2*3.14159"
   ]
  },
  {
   "cell_type": "code",
   "execution_count": 10,
   "metadata": {},
   "outputs": [
    {
     "data": {
      "text/plain": [
       "array([[70, 79, 84, 82, 62],\n",
       "       [53, 78, 52, 67, 67],\n",
       "       [59, 86, 75, 58, 62],\n",
       "       [93, 51, 56, 86, 62],\n",
       "       [98, 90, 93, 66, 90],\n",
       "       [98, 92, 84, 70, 88],\n",
       "       [56, 78, 76, 64, 81],\n",
       "       [84, 86, 51, 57, 94],\n",
       "       [74, 82, 70, 99, 87],\n",
       "       [92, 75, 74, 64, 50],\n",
       "       [68, 89, 77, 78, 75],\n",
       "       [86, 57, 86, 77, 63],\n",
       "       [92, 80, 53, 90, 70],\n",
       "       [59, 75, 60, 85, 79],\n",
       "       [67, 66, 79, 74, 92],\n",
       "       [95, 92, 61, 88, 96],\n",
       "       [99, 71, 65, 90, 87],\n",
       "       [82, 75, 70, 97, 92],\n",
       "       [68, 99, 61, 62, 54],\n",
       "       [92, 61, 92, 78, 91],\n",
       "       [83, 55, 82, 54, 81],\n",
       "       [88, 69, 95, 71, 77],\n",
       "       [69, 52, 91, 76, 51],\n",
       "       [86, 72, 78, 93, 61],\n",
       "       [74, 62, 96, 70, 65],\n",
       "       [54, 76, 90, 77, 69],\n",
       "       [99, 82, 97, 87, 92],\n",
       "       [89, 59, 72, 86, 57],\n",
       "       [65, 61, 94, 86, 87],\n",
       "       [88, 65, 68, 55, 65],\n",
       "       [63, 85, 65, 89, 75],\n",
       "       [79, 77, 88, 63, 50],\n",
       "       [74, 79, 82, 52, 79],\n",
       "       [61, 78, 94, 53, 95],\n",
       "       [95, 99, 95, 58, 56],\n",
       "       [98, 52, 70, 95, 72],\n",
       "       [67, 79, 99, 68, 61],\n",
       "       [71, 68, 55, 98, 77],\n",
       "       [80, 57, 73, 62, 78],\n",
       "       [70, 89, 84, 56, 58],\n",
       "       [51, 52, 81, 64, 93],\n",
       "       [81, 72, 91, 83, 79],\n",
       "       [63, 78, 93, 95, 60],\n",
       "       [65, 86, 68, 92, 53],\n",
       "       [99, 84, 60, 63, 61],\n",
       "       [99, 98, 93, 65, 63],\n",
       "       [99, 87, 58, 68, 84],\n",
       "       [86, 93, 67, 61, 72],\n",
       "       [76, 74, 91, 96, 67],\n",
       "       [64, 91, 78, 72, 67]])"
      ]
     },
     "execution_count": 10,
     "metadata": {},
     "output_type": "execute_result"
    }
   ],
   "source": [
    "import numpy as np\n",
    "np.random.randint(50,100,size=(50,5))"
   ]
  }
 ],
 "metadata": {
  "kernelspec": {
   "display_name": "Python 3",
   "language": "python",
   "name": "python3"
  },
  "language_info": {
   "codemirror_mode": {
    "name": "ipython",
    "version": 3
   },
   "file_extension": ".py",
   "mimetype": "text/x-python",
   "name": "python",
   "nbconvert_exporter": "python",
   "pygments_lexer": "ipython3",
   "version": "3.11.9"
  }
 },
 "nbformat": 4,
 "nbformat_minor": 2
}
