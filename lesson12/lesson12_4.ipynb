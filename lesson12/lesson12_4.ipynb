{
 "cells": [
  {
   "cell_type": "code",
   "execution_count": null,
   "metadata": {},
   "outputs": [],
   "source": [
    "import requests\n",
    "from requests import Response\n",
    "youbike_url='https://tcgbusfs.blob.core.windows.net/dotapp/youbike/v2/youbike_immediate.json'\n",
    "try:\n",
    "    repons:Response=requests.request('GET',youbike_url)\n",
    "    repons.raise_for_status()\n",
    "except Exception:\n",
    "    print(\"下載錯誤\")\n",
    "else:\n",
    "    content=repons.text"
   ]
  },
  {
   "cell_type": "code",
   "execution_count": null,
   "metadata": {},
   "outputs": [],
   "source": [
    "from pydantic import BaseModel,RootModel,Field\n",
    "from datetime import datetime\n",
    "from pprint import pprint\n",
    "\n",
    "#使用自訂的Fields的名稱\n",
    "#轉換型別\n",
    "class Station(BaseModel):\n",
    "    站名:str=Field(alias='sna')\n",
    "    行政區:str=Field(alias='sarea')\n",
    "    日期:datetime=Field(alias='mday')\n",
    "    地址:str=Field(alias='ar')\n",
    "    狀態:bool=Field(alias='act')\n",
    "    總車輛數:int=Field(alias='total')\n",
    "    可借:int=Field(alias='available_rent_bike')\n",
    "    可還:int=Field(alias='available_return_bike')\n",
    "\n",
    "class Youbikes(RootModel):\n",
    "    root:list[Station]\n",
    "\n",
    "youbikes:Youbikes=Youbikes.model_validate_json(content)\n",
    "youbikes_list=youbikes.model_dump()\n",
    "pprint(youbikes_list)"
   ]
  },
  {
   "cell_type": "code",
   "execution_count": 1,
   "metadata": {},
   "outputs": [
    {
     "name": "stdout",
     "output_type": "stream",
     "text": [
      "Y\n",
      "o\n",
      "u\n",
      "b\n",
      "i\n",
      "k\n",
      "e\n",
      "2\n",
      ".\n",
      "0\n",
      "_\n",
      "國\n",
      "北\n",
      "教\n",
      "大\n",
      "實\n",
      "小\n",
      "東\n",
      "側\n",
      "門\n"
     ]
    }
   ],
   "source": [
    "site_name='Youbike2.0_國北教大實小東側門'\n",
    "#str也是序列資料\n",
    "for charater in site_name:\n",
    "    print(charater)"
   ]
  },
  {
   "cell_type": "code",
   "execution_count": 2,
   "metadata": {},
   "outputs": [
    {
     "name": "stdout",
     "output_type": "stream",
     "text": [
      "Y\n",
      "門\n"
     ]
    }
   ],
   "source": [
    "#使用index\n",
    "print(site_name[0])\n",
    "print(site_name[-1])"
   ]
  },
  {
   "cell_type": "code",
   "execution_count": 9,
   "metadata": {},
   "outputs": [
    {
     "name": "stdout",
     "output_type": "stream",
     "text": [
      "Youbike\n",
      "Youbike\n",
      "國北教大實小東側\n",
      "國北教大實小東側門\n"
     ]
    }
   ],
   "source": [
    "#使用slice\n",
    "print(site_name[0:7])\n",
    "print(site_name[:7]) #前面不寫代表的就是最前面\n",
    "print(site_name[-9:-1])\n",
    "print(site_name[-9:]) #後面不寫代表的就是最後面"
   ]
  }
 ],
 "metadata": {
  "kernelspec": {
   "display_name": "Python 3",
   "language": "python",
   "name": "python3"
  },
  "language_info": {
   "codemirror_mode": {
    "name": "ipython",
    "version": 3
   },
   "file_extension": ".py",
   "mimetype": "text/x-python",
   "name": "python",
   "nbconvert_exporter": "python",
   "pygments_lexer": "ipython3",
   "version": "3.11.9"
  }
 },
 "nbformat": 4,
 "nbformat_minor": 2
}
