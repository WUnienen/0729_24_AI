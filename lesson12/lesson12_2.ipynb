{
 "cells": [
  {
   "cell_type": "code",
   "execution_count": 1,
   "metadata": {},
   "outputs": [],
   "source": [
    "import requests\n",
    "from requests import Response\n",
    "youbike_url='https://tcgbusfs.blob.core.windows.net/dotapp/youbike/v2/youbike_immediate.json'\n",
    "try:\n",
    "    repons:Response=requests.request('GET',youbike_url)\n",
    "    repons.raise_for_status()\n",
    "except Exception:\n",
    "    print(\"下載錯誤\")\n",
    "else:\n",
    "    content=repons.text"
   ]
  },
  {
   "cell_type": "code",
   "execution_count": 2,
   "metadata": {},
   "outputs": [
    {
     "ename": "NameError",
     "evalue": "name 'content' is not defined",
     "output_type": "error",
     "traceback": [
      "\u001b[0;31m---------------------------------------------------------------------------\u001b[0m",
      "\u001b[0;31mNameError\u001b[0m                                 Traceback (most recent call last)",
      "Cell \u001b[0;32mIn[2], line 18\u001b[0m\n\u001b[1;32m     15\u001b[0m \u001b[38;5;28;01mclass\u001b[39;00m \u001b[38;5;21;01mYoubikes\u001b[39;00m(RootModel):\n\u001b[1;32m     16\u001b[0m     root:\u001b[38;5;28mlist\u001b[39m[Station]\n\u001b[0;32m---> 18\u001b[0m youbikes:Youbikes\u001b[38;5;241m=\u001b[39mYoubikes\u001b[38;5;241m.\u001b[39mmodel_validate_json(\u001b[43mcontent\u001b[49m)\n\u001b[1;32m     19\u001b[0m youbikes_list\u001b[38;5;241m=\u001b[39myoubikes\u001b[38;5;241m.\u001b[39mmodel_dump()\n\u001b[1;32m     20\u001b[0m pprint(youbikes_list)\n",
      "\u001b[0;31mNameError\u001b[0m: name 'content' is not defined"
     ]
    }
   ],
   "source": [
    "from pydantic import BaseModel,RootModel,Field\n",
    "from pprint import pprint\n",
    "\n",
    "#使用自訂的Fields的名稱\n",
    "class Station(BaseModel):\n",
    "    站名:str=Field(alias='sna')\n",
    "    行政區:str=Field(alias='sarea')\n",
    "    日期:str=Field(alias='mday')\n",
    "    地址:str=Field(alias='ar')\n",
    "    狀態:str=Field(alias='act')\n",
    "    總車輛數:int=Field(alias='total')\n",
    "    可借:int=Field(alias='available_rent_bike')\n",
    "    可還:int=Field(alias='available_return_bike')\n",
    "\n",
    "class Youbikes(RootModel):\n",
    "    root:list[Station]\n",
    "\n",
    "youbikes:Youbikes=Youbikes.model_validate_json(content)\n",
    "youbikes_list=youbikes.model_dump()\n",
    "pprint(youbikes_list)"
   ]
  },
  {
   "cell_type": "code",
   "execution_count": 4,
   "metadata": {},
   "outputs": [
    {
     "ename": "NameError",
     "evalue": "name 'youbikes_list' is not defined",
     "output_type": "error",
     "traceback": [
      "\u001b[0;31m---------------------------------------------------------------------------\u001b[0m",
      "\u001b[0;31mNameError\u001b[0m                                 Traceback (most recent call last)",
      "Cell \u001b[0;32mIn[4], line 1\u001b[0m\n\u001b[0;32m----> 1\u001b[0m \u001b[38;5;28;01mfor\u001b[39;00m item \u001b[38;5;129;01min\u001b[39;00m \u001b[43myoubikes_list\u001b[49m:\n\u001b[1;32m      2\u001b[0m     pprint(item,indent\u001b[38;5;241m=\u001b[39m\u001b[38;5;241m2\u001b[39m)\n",
      "\u001b[0;31mNameError\u001b[0m: name 'youbikes_list' is not defined"
     ]
    }
   ],
   "source": [
    "for item in youbikes_list:\n",
    "    pprint(item,indent=2)"
   ]
  }
 ],
 "metadata": {
  "kernelspec": {
   "display_name": "Python 3",
   "language": "python",
   "name": "python3"
  },
  "language_info": {
   "codemirror_mode": {
    "name": "ipython",
    "version": 3
   },
   "file_extension": ".py",
   "mimetype": "text/x-python",
   "name": "python",
   "nbconvert_exporter": "python",
   "pygments_lexer": "ipython3",
   "version": "3.11.9"
  }
 },
 "nbformat": 4,
 "nbformat_minor": 2
}
