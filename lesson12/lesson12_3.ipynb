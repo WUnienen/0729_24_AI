{
 "cells": [
  {
   "cell_type": "code",
   "execution_count": null,
   "metadata": {},
   "outputs": [],
   "source": [
    "from pydantic import BaseModel,RootModel,Field\n",
    "from pprint import pprint\n",
    "\n",
    "#型別轉換\n",
    "#使用自訂的Fields的名稱\n",
    "class Station(BaseModel):\n",
    "    站名:str=Field(alias='sna')\n",
    "    行政區:str=Field(alias='sarea')\n",
    "    日期:str=Field(alias='mday')\n",
    "    地址:str=Field(alias='ar')\n",
    "    狀態:str=Field(alias='act')\n",
    "    總車輛數:int=Field(alias='total')\n",
    "    可借:int=Field(alias='available_rent_bike')\n",
    "    可還:int=Field(alias='available_return_bike')\n",
    "\n",
    "class Youbikes(RootModel):\n",
    "    root:list[Station]\n",
    "\n",
    "youbikes:Youbikes=Youbikes.model_validate_json(content)\n",
    "youbikes_list=youbikes.model_dump()\n",
    "pprint(youbikes_list)"
   ]
  },
  {
   "cell_type": "code",
   "execution_count": 1,
   "metadata": {},
   "outputs": [
    {
     "name": "stdout",
     "output_type": "stream",
     "text": [
      "2024\n",
      "9\n",
      "4\n",
      "12\n",
      "14\n",
      "4\n"
     ]
    }
   ],
   "source": [
    "from datetime import datetime\n",
    "current=datetime.now()\n",
    "print(current.year)\n",
    "print(current.month)\n",
    "print(current.day)\n",
    "print(current.hour)\n",
    "print(current.minute)\n",
    "print(current.second)"
   ]
  }
 ],
 "metadata": {
  "kernelspec": {
   "display_name": "Python 3",
   "language": "python",
   "name": "python3"
  },
  "language_info": {
   "codemirror_mode": {
    "name": "ipython",
    "version": 3
   },
   "file_extension": ".py",
   "mimetype": "text/x-python",
   "name": "python",
   "nbconvert_exporter": "python",
   "pygments_lexer": "ipython3",
   "version": "3.11.9"
  }
 },
 "nbformat": 4,
 "nbformat_minor": 2
}
