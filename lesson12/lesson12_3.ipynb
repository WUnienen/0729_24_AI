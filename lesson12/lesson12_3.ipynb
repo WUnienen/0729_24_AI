{
 "cells": [
  {
   "cell_type": "code",
   "execution_count": 3,
   "metadata": {},
   "outputs": [
    {
     "ename": "NameError",
     "evalue": "name 'content' is not defined",
     "output_type": "error",
     "traceback": [
      "\u001b[0;31m---------------------------------------------------------------------------\u001b[0m",
      "\u001b[0;31mNameError\u001b[0m                                 Traceback (most recent call last)",
      "Cell \u001b[0;32mIn[3], line 20\u001b[0m\n\u001b[1;32m     17\u001b[0m \u001b[38;5;28;01mclass\u001b[39;00m \u001b[38;5;21;01mYoubikes\u001b[39;00m(RootModel):\n\u001b[1;32m     18\u001b[0m     root:\u001b[38;5;28mlist\u001b[39m[Station]\n\u001b[0;32m---> 20\u001b[0m youbikes:Youbikes\u001b[38;5;241m=\u001b[39mYoubikes\u001b[38;5;241m.\u001b[39mmodel_validate_json(\u001b[43mcontent\u001b[49m)\n\u001b[1;32m     21\u001b[0m youbikes_list\u001b[38;5;241m=\u001b[39myoubikes\u001b[38;5;241m.\u001b[39mmodel_dump()\n\u001b[1;32m     22\u001b[0m pprint(youbikes_list)\n",
      "\u001b[0;31mNameError\u001b[0m: name 'content' is not defined"
     ]
    }
   ],
   "source": [
    "from pydantic import BaseModel,RootModel,Field\n",
    "from datetime import datetime\n",
    "from pprint import pprint\n",
    "\n",
    "#使用自訂的Fields的名稱\n",
    "#轉換型別\n",
    "class Station(BaseModel):\n",
    "    站名:str=Field(alias='sna')\n",
    "    行政區:str=Field(alias='sarea')\n",
    "    日期:datetime=Field(alias='mday')\n",
    "    地址:str=Field(alias='ar')\n",
    "    狀態:bool=Field(alias='act')\n",
    "    總車輛數:int=Field(alias='total')\n",
    "    可借:int=Field(alias='available_rent_bike')\n",
    "    可還:int=Field(alias='available_return_bike')\n",
    "\n",
    "class Youbikes(RootModel):\n",
    "    root:list[Station]\n",
    "\n",
    "youbikes:Youbikes=Youbikes.model_validate_json(content)\n",
    "youbikes_list=youbikes.model_dump()\n",
    "pprint(youbikes_list)"
   ]
  },
  {
   "cell_type": "code",
   "execution_count": 1,
   "metadata": {},
   "outputs": [
    {
     "name": "stdout",
     "output_type": "stream",
     "text": [
      "2024\n",
      "9\n",
      "4\n",
      "12\n",
      "14\n",
      "4\n"
     ]
    }
   ],
   "source": [
    "from datetime import datetime\n",
    "current=datetime.now()\n",
    "print(current.year)\n",
    "print(current.month)\n",
    "print(current.day)\n",
    "print(current.hour)\n",
    "print(current.minute)\n",
    "print(current.second)"
   ]
  }
 ],
 "metadata": {
  "kernelspec": {
   "display_name": "Python 3",
   "language": "python",
   "name": "python3"
  },
  "language_info": {
   "codemirror_mode": {
    "name": "ipython",
    "version": 3
   },
   "file_extension": ".py",
   "mimetype": "text/x-python",
   "name": "python",
   "nbconvert_exporter": "python",
   "pygments_lexer": "ipython3",
   "version": "3.11.9"
  }
 },
 "nbformat": 4,
 "nbformat_minor": 2
}
